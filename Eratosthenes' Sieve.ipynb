{
 "cells": [
  {
   "cell_type": "markdown",
   "metadata": {},
   "source": [
    "Sieve of Eratosthenes is an algorithm to determine prime numbers in a given range by iteratively striking out the mulitples of prime numbers in the given range"
   ]
  },
  {
   "cell_type": "code",
   "execution_count": 3,
   "metadata": {},
   "outputs": [
    {
     "name": "stdout",
     "output_type": "stream",
     "text": [
      "[2, 3, 5, 7, 11, 13, 17, 19, 23, 29, 31, 37, 41, 43, 47, 53, 59, 61, 67, 71, 73, 79, 83, 89, 97]\n",
      "Largest prime number is :  97\n",
      "CPU times: user 1.07 ms, sys: 0 ns, total: 1.07 ms\n",
      "Wall time: 752 µs\n"
     ]
    }
   ],
   "source": [
    "%%time\n",
    "bag = list(range(0,101))\n",
    "max = bag[-1]\n",
    "prime_tub = []\n",
    "total_prime=0\n",
    "for i in range(2,101):\n",
    "    if bag[i] is None:\n",
    "        continue\n",
    "    else:\n",
    "        prime_tub.append(i)\n",
    "        j=i+i\n",
    "        while j<=max:\n",
    "            bag[j]=None\n",
    "            j+=i\n",
    "        \n",
    "print(prime_tub)\n",
    "print(\"Largest prime number is : \",prime_tub[-1])"
   ]
  },
  {
   "cell_type": "markdown",
   "metadata": {},
   "source": [
    "Initially, a list of numbers in the given range, say 0 to 100 is generated. \n",
    "We'll cancel out all the composite numbers in the list so that it contains only prime numbers. \n",
    "In the above approach, a number between 2 and 100 is selected one at a time.\n",
    "Case 1: If the number hasn't been cancelled, it's a prime. We add it to the list of primes. Now we cancel out all the numbers in the list that are the multiples of this number.\n",
    "Case 2: The number has been cancelled. We proceed to the next number"
   ]
  },
  {
   "cell_type": "code",
   "execution_count": 2,
   "metadata": {},
   "outputs": [
    {
     "name": "stdout",
     "output_type": "stream",
     "text": [
      "[0, 1, 2, 3, None, 5, None, 7, None, None, None, 11, None, 13, None, None, None, 17, None, 19, None, None, None, 23, None, None, None, None, None, 29, None, 31, None, None, None, None, None, 37, None, None, None, 41, None, 43, None, None, None, 47, None, None, None, None, None, 53, None, None, None, None, None, 59, None, 61, None, None, None, None, None, 67, None, None, None, 71, None, 73, None, None, None, None, None, 79, None, None, None, 83, None, None, None, None, None, 89, None, None, None, None, None, None, None, 97, None, None, None]\n",
      "CPU times: user 120 µs, sys: 15 µs, total: 135 µs\n",
      "Wall time: 140 µs\n"
     ]
    }
   ],
   "source": [
    "%%time\n",
    "bag = list(range(0,101))\n",
    "max = bag[-1]\n",
    "prime_tub=[]\n",
    "for i in range(2,51):\n",
    "    if bag[i] is None:\n",
    "        continue\n",
    "    else:\n",
    "        j=i+i\n",
    "        while j<=max:\n",
    "            bag[j]=None\n",
    "            j+=i\n",
    "        \n",
    "print(bag)"
   ]
  }
 ],
 "metadata": {
  "kernelspec": {
   "display_name": "Python 3",
   "language": "python",
   "name": "python3"
  },
  "language_info": {
   "codemirror_mode": {
    "name": "ipython",
    "version": 3
   },
   "file_extension": ".py",
   "mimetype": "text/x-python",
   "name": "python",
   "nbconvert_exporter": "python",
   "pygments_lexer": "ipython3",
   "version": "3.7.1"
  }
 },
 "nbformat": 4,
 "nbformat_minor": 2
}
